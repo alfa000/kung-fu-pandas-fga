{
 "cells": [
  {
   "cell_type": "markdown",
   "id": "10c3bbbf",
   "metadata": {},
   "source": [
    "<b><font size = 45>LEMBAR KERJA KELOMPOK 1 - DATA AKUISISI DAN PEMAHAMAN DATA </font></b>\n",
    "\n",
    "Kelompok: \n",
    "\n",
    "Nama anggota:\n",
    "\n",
    "1. Fajar Buana Hidayat <br>\n",
    "2. Adnan Al-farizi Rahmat <br>\n",
    "3. Ichsan Kamil <br>\n",
    "4. \n",
    "5. "
   ]
  },
  {
   "cell_type": "markdown",
   "id": "1a5eb3ea",
   "metadata": {},
   "source": [
    "# Data Akuisisi dan Pemahaman Bisnis"
   ]
  },
  {
   "cell_type": "markdown",
   "id": "8b30f828",
   "metadata": {},
   "source": [
    "Silakan memilih satu sumber data yang menarik untuk dipelajari. Pastikan data yang dipilih memang memiliki kecukupan informasi yang bisa dimanfaatkan (jangan hanya 1 informasi yang bisa diolah dari data tersebut). Sumber data wajib dari https://kaggle.com. Sertakan url tempat untuk mengunduh data yang dipilih pada textbox berikut:"
   ]
  },
  {
   "cell_type": "markdown",
   "id": "78f17621",
   "metadata": {},
   "source": [
    "https://www.kaggle.com/datasets/shantanudhakadd/email-spam-detection-dataset-classification"
   ]
  },
  {
   "cell_type": "markdown",
   "id": "963d7d01",
   "metadata": {},
   "source": [
    "Jelaskan kenapa tim memilih data tersebut untuk dipelajari?"
   ]
  },
  {
   "cell_type": "markdown",
   "id": "995e6181",
   "metadata": {},
   "source": [
    "Kita mungkin memilih data Email Spam karena ada beberapa alasan yang membuat data tersebut menarik dan relevan untuk dipelajari:\n",
    "\n",
    "1. Kita memilih data Email Spam untuk dipelajari karena masalah klasifikasi email spam adalah salah satu tugas penting dalam bidang pengolahan bahasa alami (Natural Language Processing) dan machine learning. Data ini memiliki karakteristik menarik dan relevan untuk dipelajari\n",
    "\n",
    "2. Terkadang kita sebal ketika sering mendapatkan Email Spam"
   ]
  },
  {
   "cell_type": "markdown",
   "id": "92d13b6b",
   "metadata": {},
   "source": [
    "Kalau data ini akan digunakan untuk menghasilkan keuntungan atau untuk kepentingan yang baik, keuntungan atau kepentingan seperti apa yang bisa didapat atau disolusikan dengan data yang dipilih?"
   ]
  },
  {
   "cell_type": "markdown",
   "id": "a681dc25",
   "metadata": {},
   "source": [
    "1. Meningkatkan Efisiensi Komunikasi: Dengan membangun sistem klasifikasi email spam yang efektif, pengguna dapat menghemat waktu dan sumber daya dengan menghindari pembacaan dan penanganan manual terhadap email spam. Efisiensi komunikasi meningkat ketika kotak masuk pengguna lebih bersih dari email spam.\n",
    "\n",
    "2. Meningkatkan Keamanan Informasi: Email spam sering kali berisi upaya phishing dan penipuan yang dapat membahayakan keamanan informasi pengguna. Dengan mengidentifikasi dan memfilter email spam, risiko pengguna jatuh ke dalam penipuan atau membuka lampiran berbahaya dapat dikurangi.\n",
    "\n",
    "3. Meningkatkan Produktivitas: Pengguna akan lebih fokus pada email yang relevan dan penting bagi mereka, yang dapat meningkatkan produktivitas dalam bekerja dan berkomunikasi melalui email.\n",
    "\n",
    "4. Peningkatan Pengalaman Pengguna: Dengan menyaring email spam, pengguna akan mengalami pengalaman pengguna yang lebih positif dan kurang terganggu oleh konten yang tidak relevan atau tidak diinginkan.\n",
    "\n",
    "5. Penghematan Sumber Daya: Dengan mengurangi waktu yang dihabiskan oleh pengguna untuk menghapus atau menangani email spam, organisasi dan perusahaan dapat menghemat sumber daya dalam hal tenaga kerja dan biaya operasional."
   ]
  },
  {
   "cell_type": "markdown",
   "id": "4ade67df",
   "metadata": {},
   "source": [
    "# Pemahaman Data"
   ]
  },
  {
   "cell_type": "markdown",
   "id": "f856d687",
   "metadata": {},
   "source": [
    "Jelaskan secara umum perihal data yang dipilih!"
   ]
  },
  {
   "cell_type": "markdown",
   "id": "0662f58b",
   "metadata": {},
   "source": [
    "\n",
    "Secara umum, data yang dipilih untuk dipelajari adalah dataset Email Spam yang diambil dari kaggle. Dataset ini terdiri dari dua kolom:\n",
    "\n",
    "Label: Kolom ini berisi label atau kategori yang mengidentifikasi apakah suatu email termasuk dalam kelas spam atau non-spam (ham). Biasanya, label ini direpresentasikan sebagai angka biner, di mana nilai 1 menunjukkan email spam, dan nilai 0 menunjukkan email non-spam.\n",
    "\n",
    "Isi Email: Kolom ini berisi teks atau konten dari email itu sendiri. Teks ini merupakan fitur yang digunakan untuk melakukan klasifikasi, yaitu menentukan apakah email tersebut termasuk ke dalam kelas spam atau non-spam berdasarkan informasi yang terdapat di dalamnya."
   ]
  },
  {
   "cell_type": "markdown",
   "id": "32c875d2",
   "metadata": {},
   "source": [
    "Sebutkan periode data tersebut!"
   ]
  },
  {
   "cell_type": "markdown",
   "id": "e844c257",
   "metadata": {},
   "source": [
    "Data Email spam ini dikumpulkan per tahun 2022 "
   ]
  },
  {
   "cell_type": "markdown",
   "id": "867f57eb",
   "metadata": {},
   "source": [
    "Ada berapa atribut pada data? (gunakan sintaks python untuk menjawab)"
   ]
  },
  {
   "cell_type": "code",
   "execution_count": 19,
   "id": "b955e68a",
   "metadata": {},
   "outputs": [
    {
     "name": "stdout",
     "output_type": "stream",
     "text": [
      "['v1' 'v2' 'Unnamed: 2' 'Unnamed: 3' 'Unnamed: 4']\n"
     ]
    }
   ],
   "source": [
    "import pandas as pd\n",
    "import numpy as np\n",
    "\n",
    "# cek atribut jumlah pada data\n",
    "data = pd.read_csv('spam.csv', encoding='latin-1')\n",
    "\n",
    "print(data.columns.values)\n",
    "\n"
   ]
  },
  {
   "cell_type": "markdown",
   "id": "e8f06c3c",
   "metadata": {},
   "source": [
    "Ada berapa baris data yang ada pada data? (gunakan sintaks python untuk menjawab)"
   ]
  },
  {
   "cell_type": "code",
   "execution_count": 20,
   "id": "581ccb83",
   "metadata": {},
   "outputs": [
    {
     "name": "stdout",
     "output_type": "stream",
     "text": [
      "5572 Baris\n"
     ]
    }
   ],
   "source": [
    "# cek jumlah baris pada data\n",
    "print(len(data), \"Baris\")"
   ]
  },
  {
   "cell_type": "markdown",
   "id": "2ea5633d",
   "metadata": {},
   "source": [
    "Jelaskan atribut yang dimiliki oleh data yang dipilih! Penjelasan disampaikan dalam bentuk tabel dengan isi tabel sebagai berikut: \n",
    "    \n",
    "1. Nama Atribut\n",
    "2. Deskripsi Atribut\n",
    "3. Tipe Data Atribut (lihat gambar berikut untuk menentukan tipe data)\n",
    "\n",
    "<img src = \"https://www.qualitydigest.com/IQedit/Images/Articles_and_Columns/2020/06_June-2020/Data/working3_clip_image002_0000.png\" alt = \"Jenis-Jenis Data\">\n"
   ]
  },
  {
   "cell_type": "markdown",
   "id": "c593d866",
   "metadata": {},
   "source": []
  },
  {
   "cell_type": "markdown",
   "id": "242d5f4b",
   "metadata": {},
   "source": [
    "Apakah ada baris data yang berisi null (NaN)? Buktikan menggunakan sintaks python!"
   ]
  },
  {
   "cell_type": "code",
   "execution_count": 21,
   "id": "dfc4f4f3",
   "metadata": {},
   "outputs": [
    {
     "name": "stdout",
     "output_type": "stream",
     "text": [
      "Ada 5566 baris dengan nilai null (NaN).\n",
      "        v1                                                 v2 Unnamed: 2  \\\n",
      "0      ham  Go until jurong point, crazy.. Available only ...        NaN   \n",
      "1      ham                      Ok lar... Joking wif u oni...        NaN   \n",
      "2     spam  Free entry in 2 a wkly comp to win FA Cup fina...        NaN   \n",
      "3      ham  U dun say so early hor... U c already then say...        NaN   \n",
      "4      ham  Nah I don't think he goes to usf, he lives aro...        NaN   \n",
      "...    ...                                                ...        ...   \n",
      "5567  spam  This is the 2nd time we have tried 2 contact u...        NaN   \n",
      "5568   ham              Will Ì_ b going to esplanade fr home?        NaN   \n",
      "5569   ham  Pity, * was in mood for that. So...any other s...        NaN   \n",
      "5570   ham  The guy did some bitching but I acted like i'd...        NaN   \n",
      "5571   ham                         Rofl. Its true to its name        NaN   \n",
      "\n",
      "     Unnamed: 3 Unnamed: 4  \n",
      "0           NaN        NaN  \n",
      "1           NaN        NaN  \n",
      "2           NaN        NaN  \n",
      "3           NaN        NaN  \n",
      "4           NaN        NaN  \n",
      "...         ...        ...  \n",
      "5567        NaN        NaN  \n",
      "5568        NaN        NaN  \n",
      "5569        NaN        NaN  \n",
      "5570        NaN        NaN  \n",
      "5571        NaN        NaN  \n",
      "\n",
      "[5566 rows x 5 columns]\n"
     ]
    }
   ],
   "source": [
    "import pandas as pd\n",
    "\n",
    "# Path: Lembar Kerja Kelompok 1 - Latihan Akuisisi dan pemahaman data.ipynb\n",
    "df = pd.read_csv('spam.csv', encoding='latin-1')\n",
    "\n",
    "df.head(5)\n",
    "\n",
    "# Periksa apakah ada baris dengan nilai null (NaN)\n",
    "isNullRows = df[df.isnull().any(axis=1)]\n",
    "sumIsNullRows = len(isNullRows)\n",
    "if not isNullRows.empty:\n",
    "    print(\"Ada {} baris dengan nilai null (NaN).\".format(sumIsNullRows))\n",
    "    print(isNullRows)\n",
    "else:\n",
    "    print(\"Tidak ada baris dengan nilai null (NaN).\")"
   ]
  },
  {
   "cell_type": "markdown",
   "id": "b2da3ae2",
   "metadata": {},
   "source": [
    "Munculkan 5 data pertama pada data yang dipilih!"
   ]
  },
  {
   "cell_type": "code",
   "execution_count": 22,
   "id": "babc92a7",
   "metadata": {},
   "outputs": [
    {
     "data": {
      "text/html": [
       "<div>\n",
       "<style scoped>\n",
       "    .dataframe tbody tr th:only-of-type {\n",
       "        vertical-align: middle;\n",
       "    }\n",
       "\n",
       "    .dataframe tbody tr th {\n",
       "        vertical-align: top;\n",
       "    }\n",
       "\n",
       "    .dataframe thead th {\n",
       "        text-align: right;\n",
       "    }\n",
       "</style>\n",
       "<table border=\"1\" class=\"dataframe\">\n",
       "  <thead>\n",
       "    <tr style=\"text-align: right;\">\n",
       "      <th></th>\n",
       "      <th>v1</th>\n",
       "      <th>v2</th>\n",
       "      <th>Unnamed: 2</th>\n",
       "      <th>Unnamed: 3</th>\n",
       "      <th>Unnamed: 4</th>\n",
       "    </tr>\n",
       "  </thead>\n",
       "  <tbody>\n",
       "    <tr>\n",
       "      <th>0</th>\n",
       "      <td>ham</td>\n",
       "      <td>Go until jurong point, crazy.. Available only ...</td>\n",
       "      <td>NaN</td>\n",
       "      <td>NaN</td>\n",
       "      <td>NaN</td>\n",
       "    </tr>\n",
       "    <tr>\n",
       "      <th>1</th>\n",
       "      <td>ham</td>\n",
       "      <td>Ok lar... Joking wif u oni...</td>\n",
       "      <td>NaN</td>\n",
       "      <td>NaN</td>\n",
       "      <td>NaN</td>\n",
       "    </tr>\n",
       "    <tr>\n",
       "      <th>2</th>\n",
       "      <td>spam</td>\n",
       "      <td>Free entry in 2 a wkly comp to win FA Cup fina...</td>\n",
       "      <td>NaN</td>\n",
       "      <td>NaN</td>\n",
       "      <td>NaN</td>\n",
       "    </tr>\n",
       "    <tr>\n",
       "      <th>3</th>\n",
       "      <td>ham</td>\n",
       "      <td>U dun say so early hor... U c already then say...</td>\n",
       "      <td>NaN</td>\n",
       "      <td>NaN</td>\n",
       "      <td>NaN</td>\n",
       "    </tr>\n",
       "    <tr>\n",
       "      <th>4</th>\n",
       "      <td>ham</td>\n",
       "      <td>Nah I don't think he goes to usf, he lives aro...</td>\n",
       "      <td>NaN</td>\n",
       "      <td>NaN</td>\n",
       "      <td>NaN</td>\n",
       "    </tr>\n",
       "  </tbody>\n",
       "</table>\n",
       "</div>"
      ],
      "text/plain": [
       "     v1                                                 v2 Unnamed: 2  \\\n",
       "0   ham  Go until jurong point, crazy.. Available only ...        NaN   \n",
       "1   ham                      Ok lar... Joking wif u oni...        NaN   \n",
       "2  spam  Free entry in 2 a wkly comp to win FA Cup fina...        NaN   \n",
       "3   ham  U dun say so early hor... U c already then say...        NaN   \n",
       "4   ham  Nah I don't think he goes to usf, he lives aro...        NaN   \n",
       "\n",
       "  Unnamed: 3 Unnamed: 4  \n",
       "0        NaN        NaN  \n",
       "1        NaN        NaN  \n",
       "2        NaN        NaN  \n",
       "3        NaN        NaN  \n",
       "4        NaN        NaN  "
      ]
     },
     "execution_count": 22,
     "metadata": {},
     "output_type": "execute_result"
    }
   ],
   "source": [
    "# 5 data pertama\n",
    "df.head(5)"
   ]
  },
  {
   "cell_type": "markdown",
   "id": "f590b4d7",
   "metadata": {},
   "source": [
    "Munculkan 5 data terakhir pada data yang dipilih!"
   ]
  },
  {
   "cell_type": "code",
   "execution_count": 23,
   "id": "5a701454",
   "metadata": {},
   "outputs": [
    {
     "data": {
      "text/html": [
       "<div>\n",
       "<style scoped>\n",
       "    .dataframe tbody tr th:only-of-type {\n",
       "        vertical-align: middle;\n",
       "    }\n",
       "\n",
       "    .dataframe tbody tr th {\n",
       "        vertical-align: top;\n",
       "    }\n",
       "\n",
       "    .dataframe thead th {\n",
       "        text-align: right;\n",
       "    }\n",
       "</style>\n",
       "<table border=\"1\" class=\"dataframe\">\n",
       "  <thead>\n",
       "    <tr style=\"text-align: right;\">\n",
       "      <th></th>\n",
       "      <th>v1</th>\n",
       "      <th>v2</th>\n",
       "      <th>Unnamed: 2</th>\n",
       "      <th>Unnamed: 3</th>\n",
       "      <th>Unnamed: 4</th>\n",
       "    </tr>\n",
       "  </thead>\n",
       "  <tbody>\n",
       "    <tr>\n",
       "      <th>5567</th>\n",
       "      <td>spam</td>\n",
       "      <td>This is the 2nd time we have tried 2 contact u...</td>\n",
       "      <td>NaN</td>\n",
       "      <td>NaN</td>\n",
       "      <td>NaN</td>\n",
       "    </tr>\n",
       "    <tr>\n",
       "      <th>5568</th>\n",
       "      <td>ham</td>\n",
       "      <td>Will Ì_ b going to esplanade fr home?</td>\n",
       "      <td>NaN</td>\n",
       "      <td>NaN</td>\n",
       "      <td>NaN</td>\n",
       "    </tr>\n",
       "    <tr>\n",
       "      <th>5569</th>\n",
       "      <td>ham</td>\n",
       "      <td>Pity, * was in mood for that. So...any other s...</td>\n",
       "      <td>NaN</td>\n",
       "      <td>NaN</td>\n",
       "      <td>NaN</td>\n",
       "    </tr>\n",
       "    <tr>\n",
       "      <th>5570</th>\n",
       "      <td>ham</td>\n",
       "      <td>The guy did some bitching but I acted like i'd...</td>\n",
       "      <td>NaN</td>\n",
       "      <td>NaN</td>\n",
       "      <td>NaN</td>\n",
       "    </tr>\n",
       "    <tr>\n",
       "      <th>5571</th>\n",
       "      <td>ham</td>\n",
       "      <td>Rofl. Its true to its name</td>\n",
       "      <td>NaN</td>\n",
       "      <td>NaN</td>\n",
       "      <td>NaN</td>\n",
       "    </tr>\n",
       "  </tbody>\n",
       "</table>\n",
       "</div>"
      ],
      "text/plain": [
       "        v1                                                 v2 Unnamed: 2  \\\n",
       "5567  spam  This is the 2nd time we have tried 2 contact u...        NaN   \n",
       "5568   ham              Will Ì_ b going to esplanade fr home?        NaN   \n",
       "5569   ham  Pity, * was in mood for that. So...any other s...        NaN   \n",
       "5570   ham  The guy did some bitching but I acted like i'd...        NaN   \n",
       "5571   ham                         Rofl. Its true to its name        NaN   \n",
       "\n",
       "     Unnamed: 3 Unnamed: 4  \n",
       "5567        NaN        NaN  \n",
       "5568        NaN        NaN  \n",
       "5569        NaN        NaN  \n",
       "5570        NaN        NaN  \n",
       "5571        NaN        NaN  "
      ]
     },
     "execution_count": 23,
     "metadata": {},
     "output_type": "execute_result"
    }
   ],
   "source": [
    "# 5 data Terakhir\n",
    "df.tail(5)"
   ]
  },
  {
   "cell_type": "markdown",
   "id": "90f9b093",
   "metadata": {},
   "source": [
    "Munculkan statistik deskriptif untuk data yang dipilih dengan sintaks python!"
   ]
  },
  {
   "cell_type": "code",
   "execution_count": 24,
   "id": "417bc2e1",
   "metadata": {},
   "outputs": [
    {
     "name": "stdout",
     "output_type": "stream",
     "text": [
      "Descriptive Statistics:\n",
      "           v1                      v2  \\\n",
      "count   5572                    5572   \n",
      "unique     2                    5169   \n",
      "top      ham  Sorry, I'll call later   \n",
      "freq    4825                      30   \n",
      "\n",
      "                                               Unnamed: 2  \\\n",
      "count                                                  50   \n",
      "unique                                                 43   \n",
      "top      bt not his girlfrnd... G o o d n i g h t . . .@\"   \n",
      "freq                                                    3   \n",
      "\n",
      "                   Unnamed: 3 Unnamed: 4  \n",
      "count                      12          6  \n",
      "unique                     10          5  \n",
      "top      MK17 92H. 450Ppw 16\"    GNT:-)\"  \n",
      "freq                        2          2  \n"
     ]
    }
   ],
   "source": [
    "# Munculkan statistik deskriptif untuk data yang dipilih dengan sintaks python!\n",
    "\n",
    "# Import library yang dibutuhkan\n",
    "import pandas as pd\n",
    "import numpy as np\n",
    "\n",
    "# munculkan statistik deskriptif untuk data yang dipilih\n",
    "print('Descriptive Statistics:\\n', df.describe())"
   ]
  },
  {
   "cell_type": "markdown",
   "id": "840b28ec",
   "metadata": {},
   "source": [
    "Jelaskan apa makna dari hasil telaah statistik deskriptif tersebut!"
   ]
  },
  {
   "cell_type": "markdown",
   "id": "d1168c33",
   "metadata": {},
   "source": []
  },
  {
   "cell_type": "markdown",
   "id": "93ab2978",
   "metadata": {},
   "source": [
    "Lakukan telaah korelasi antar atribut yang ada pada data yang dipilih menggunakan sintaks python! Penjelasan bisa diperkaya dengan visualisasi korelasi."
   ]
  },
  {
   "cell_type": "code",
   "execution_count": 25,
   "id": "d0b559c2",
   "metadata": {},
   "outputs": [
    {
     "data": {
      "text/html": [
       "<div>\n",
       "<style scoped>\n",
       "    .dataframe tbody tr th:only-of-type {\n",
       "        vertical-align: middle;\n",
       "    }\n",
       "\n",
       "    .dataframe tbody tr th {\n",
       "        vertical-align: top;\n",
       "    }\n",
       "\n",
       "    .dataframe thead th {\n",
       "        text-align: right;\n",
       "    }\n",
       "</style>\n",
       "<table border=\"1\" class=\"dataframe\">\n",
       "  <thead>\n",
       "    <tr style=\"text-align: right;\">\n",
       "      <th></th>\n",
       "      <th>label</th>\n",
       "      <th>email</th>\n",
       "    </tr>\n",
       "  </thead>\n",
       "  <tbody>\n",
       "    <tr>\n",
       "      <th>0</th>\n",
       "      <td>ham</td>\n",
       "      <td>Go until jurong point, crazy.. Available only ...</td>\n",
       "    </tr>\n",
       "    <tr>\n",
       "      <th>1</th>\n",
       "      <td>ham</td>\n",
       "      <td>Ok lar... Joking wif u oni...</td>\n",
       "    </tr>\n",
       "    <tr>\n",
       "      <th>2</th>\n",
       "      <td>spam</td>\n",
       "      <td>Free entry in 2 a wkly comp to win FA Cup fina...</td>\n",
       "    </tr>\n",
       "    <tr>\n",
       "      <th>3</th>\n",
       "      <td>ham</td>\n",
       "      <td>U dun say so early hor... U c already then say...</td>\n",
       "    </tr>\n",
       "    <tr>\n",
       "      <th>4</th>\n",
       "      <td>ham</td>\n",
       "      <td>Nah I don't think he goes to usf, he lives aro...</td>\n",
       "    </tr>\n",
       "  </tbody>\n",
       "</table>\n",
       "</div>"
      ],
      "text/plain": [
       "  label                                              email\n",
       "0   ham  Go until jurong point, crazy.. Available only ...\n",
       "1   ham                      Ok lar... Joking wif u oni...\n",
       "2  spam  Free entry in 2 a wkly comp to win FA Cup fina...\n",
       "3   ham  U dun say so early hor... U c already then say...\n",
       "4   ham  Nah I don't think he goes to usf, he lives aro..."
      ]
     },
     "execution_count": 25,
     "metadata": {},
     "output_type": "execute_result"
    }
   ],
   "source": [
    "# korelasi antar atribut yang ada pada data yang dipilih menggunakan sintaks python\n",
    "# Penjelasan bisa diperkaya dengan visualisasi korelasi.\n",
    "\n",
    "# Menghapus kolom yang tidak diperlukan\n",
    "df.drop(['Unnamed: 2', 'Unnamed: 3', 'Unnamed: 4'], axis=1, inplace=True)\n",
    "\n",
    "\n",
    "# Renaming the columns to be understandable\n",
    "tampilkanLabel = df.rename(columns={'v1':'label', 'v2':'email'}, inplace=True)\n",
    "df.head()\n",
    "\n",
    "\n"
   ]
  },
  {
   "cell_type": "code",
   "execution_count": 26,
   "id": "f3556cb1",
   "metadata": {},
   "outputs": [
    {
     "data": {
      "text/html": [
       "<div>\n",
       "<style scoped>\n",
       "    .dataframe tbody tr th:only-of-type {\n",
       "        vertical-align: middle;\n",
       "    }\n",
       "\n",
       "    .dataframe tbody tr th {\n",
       "        vertical-align: top;\n",
       "    }\n",
       "\n",
       "    .dataframe thead th {\n",
       "        text-align: right;\n",
       "    }\n",
       "</style>\n",
       "<table border=\"1\" class=\"dataframe\">\n",
       "  <thead>\n",
       "    <tr style=\"text-align: right;\">\n",
       "      <th></th>\n",
       "      <th>label</th>\n",
       "      <th>email</th>\n",
       "    </tr>\n",
       "  </thead>\n",
       "  <tbody>\n",
       "    <tr>\n",
       "      <th>0</th>\n",
       "      <td>0</td>\n",
       "      <td>Go until jurong point, crazy.. Available only ...</td>\n",
       "    </tr>\n",
       "    <tr>\n",
       "      <th>1</th>\n",
       "      <td>0</td>\n",
       "      <td>Ok lar... Joking wif u oni...</td>\n",
       "    </tr>\n",
       "    <tr>\n",
       "      <th>2</th>\n",
       "      <td>1</td>\n",
       "      <td>Free entry in 2 a wkly comp to win FA Cup fina...</td>\n",
       "    </tr>\n",
       "    <tr>\n",
       "      <th>3</th>\n",
       "      <td>0</td>\n",
       "      <td>U dun say so early hor... U c already then say...</td>\n",
       "    </tr>\n",
       "    <tr>\n",
       "      <th>4</th>\n",
       "      <td>0</td>\n",
       "      <td>Nah I don't think he goes to usf, he lives aro...</td>\n",
       "    </tr>\n",
       "  </tbody>\n",
       "</table>\n",
       "</div>"
      ],
      "text/plain": [
       "   label                                              email\n",
       "0      0  Go until jurong point, crazy.. Available only ...\n",
       "1      0                      Ok lar... Joking wif u oni...\n",
       "2      1  Free entry in 2 a wkly comp to win FA Cup fina...\n",
       "3      0  U dun say so early hor... U c already then say...\n",
       "4      0  Nah I don't think he goes to usf, he lives aro..."
      ]
     },
     "execution_count": 26,
     "metadata": {},
     "output_type": "execute_result"
    }
   ],
   "source": [
    "df['label'] = df['label'].map({'ham': 0, 'spam': 1})\n",
    "df.head()"
   ]
  },
  {
   "cell_type": "code",
   "execution_count": 27,
   "id": "0f196f41",
   "metadata": {},
   "outputs": [
    {
     "data": {
      "image/png": "[encoded data removed]",
      "text/plain": [
       "<Figure size 640x480 with 1 Axes>"
      ]
     },
     "metadata": {},
     "output_type": "display_data"
    }
   ],
   "source": [
    "import matplotlib.pyplot as plt\n",
    "import seaborn as sns\n",
    "\n",
    "palette=sns.color_palette('magma')\n",
    "sns.set(palette=palette)\n",
    "#Plotting Spam(1) vs Not Spam(0) value counts\n",
    "df['label'].value_counts().plot(kind='bar')\n",
    "\n",
    "# ubah label 0 dan 1 menjadi ham dan spam\n",
    "df['label'] = df['label'].replace([0,1],['Tidak Spam','Spam'])\n",
    "\n",
    "plt.title('Korelasi Antara Label dan Jumlahnya')\n",
    "\n",
    "plt.xlabel('Label')\n",
    "plt.ylabel('Count')\n",
    "plt.show()\n"
   ]
  },
  {
   "cell_type": "code",
   "execution_count": 28,
   "id": "a69f3d8e",
   "metadata": {},
   "outputs": [
    {
     "name": "stderr",
     "output_type": "stream",
     "text": [
      "C:\\Users\\ichsa\\AppData\\Local\\Temp\\ipykernel_7908\\3924214714.py:7: FutureWarning: The default value of numeric_only in DataFrameGroupBy.mean is deprecated. In a future version, numeric_only will default to False. Either specify numeric_only or select only columns which should be valid for the function.\n",
      "  df.groupby('label').mean()\n"
     ]
    },
    {
     "data": {
      "image/png": "[encoded data removed]",
      "text/plain": [
       "<Figure size 1200x800 with 1 Axes>"
      ]
     },
     "metadata": {},
     "output_type": "display_data"
    }
   ],
   "source": [
    "# Korelasikan antara label spam dan ham dengan jumlah kata yang ada di dalam pesan\n",
    "\n",
    "# Code Here\n",
    "df.groupby('label').count()\n",
    "df['jumlah_kata'] = df['email'].apply(lambda x: len(x.split()))\n",
    "\n",
    "df.groupby('label').mean()\n",
    "df.groupby('label').describe()\n",
    "\n",
    "plt.figure(figsize=(12,8))\n",
    "sns.histplot(data=df, x='jumlah_kata', hue='label', multiple='stack')\n",
    "plt.title('Perbandingan jumlah kata pada setiap label')\n",
    "plt.show()\n",
    "\n"
   ]
  },
  {
   "cell_type": "code",
   "execution_count": null,
   "id": "651c08e8",
   "metadata": {},
   "outputs": [],
   "source": [
    "# apply preprocessing\n"
   ]
  },
  {
   "cell_type": "markdown",
   "id": "fcb37f1a",
   "metadata": {},
   "source": [
    "Jelaskan apa makna dari hasil telaah korelasi tersebut!"
   ]
  },
  {
   "cell_type": "code",
   "execution_count": null,
   "id": "6ca01617",
   "metadata": {},
   "outputs": [],
   "source": [
    "\n"
   ]
  }
 ],
 "metadata": {
  "kernelspec": {
   "display_name": "Python 3 (ipykernel)",
   "language": "python",
   "name": "python3"
  },
  "language_info": {
   "codemirror_mode": {
    "name": "ipython",
    "version": 3
   },
   "file_extension": ".py",
   "mimetype": "text/x-python",
   "name": "python",
   "nbconvert_exporter": "python",
   "pygments_lexer": "ipython3",
   "version": "3.9.13"
  },
  "toc": {
   "base_numbering": 1,
   "nav_menu": {},
   "number_sections": true,
   "sideBar": true,
   "skip_h1_title": false,
   "title_cell": "Table of Contents",
   "title_sidebar": "Contents",
   "toc_cell": false,
   "toc_position": {},
   "toc_section_display": true,
   "toc_window_display": true
  }
 },
 "nbformat": 4,
 "nbformat_minor": 5
}
