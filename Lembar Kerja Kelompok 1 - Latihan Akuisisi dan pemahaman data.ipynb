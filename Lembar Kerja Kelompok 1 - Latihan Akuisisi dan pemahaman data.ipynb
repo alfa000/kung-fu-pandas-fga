{
 "cells": [
  {
   "cell_type": "markdown",
   "id": "10c3bbbf",
   "metadata": {},
   "source": [
    "<b><font size = 45>LEMBAR KERJA KELOMPOK 1 - DATA AKUISISI DAN PEMAHAMAN DATA </font></b>\n",
    "\n",
    "Kelompok: \n",
    "\n",
    "Nama anggota:\n",
    "\n",
    "1. \n",
    "2. \n",
    "3. \n",
    "4. \n",
    "5. "
   ]
  },
  {
   "cell_type": "markdown",
   "id": "1a5eb3ea",
   "metadata": {},
   "source": [
    "# Data Akuisisi dan Pemahaman Bisnis"
   ]
  },
  {
   "cell_type": "markdown",
   "id": "8b30f828",
   "metadata": {},
   "source": [
    "Silakan memilih satu sumber data yang menarik untuk dipelajari. Pastikan data yang dipilih memang memiliki kecukupan informasi yang bisa dimanfaatkan (jangan hanya 1 informasi yang bisa diolah dari data tersebut). Sumber data wajib dari https://kaggle.com. Sertakan url tempat untuk mengunduh data yang dipilih pada textbox berikut:"
   ]
  },
  {
   "cell_type": "markdown",
   "id": "78f17621",
   "metadata": {},
   "source": []
  },
  {
   "cell_type": "markdown",
   "id": "963d7d01",
   "metadata": {},
   "source": [
    "Jelaskan kenapa tim memilih data tersebut untuk dipelajari?"
   ]
  },
  {
   "cell_type": "code",
   "execution_count": null,
   "id": "e95cafd8",
   "metadata": {},
   "outputs": [],
   "source": []
  },
  {
   "cell_type": "markdown",
   "id": "92d13b6b",
   "metadata": {},
   "source": [
    "Kalau data ini akan digunakan untuk menghasilkan keuntungan atau untuk kepentingan yang baik, keuntungan atau kepentingan seperti apa yang bisa didapat atau disolusikan dengan data yang dipilih?"
   ]
  },
  {
   "cell_type": "markdown",
   "id": "a681dc25",
   "metadata": {},
   "source": []
  },
  {
   "cell_type": "markdown",
   "id": "4ade67df",
   "metadata": {},
   "source": [
    "# Pemahaman Data"
   ]
  },
  {
   "cell_type": "markdown",
   "id": "f856d687",
   "metadata": {},
   "source": [
    "Jelaskan secara umum perihal data yang dipilih!"
   ]
  },
  {
   "cell_type": "markdown",
   "id": "0662f58b",
   "metadata": {},
   "source": []
  },
  {
   "cell_type": "markdown",
   "id": "32c875d2",
   "metadata": {},
   "source": [
    "Sebutkan periode data tersebut!"
   ]
  },
  {
   "cell_type": "markdown",
   "id": "e844c257",
   "metadata": {},
   "source": []
  },
  {
   "cell_type": "markdown",
   "id": "867f57eb",
   "metadata": {},
   "source": [
    "Ada berapa atribut pada data? (gunakan sintaks python untuk menjawab)"
   ]
  },
  {
   "cell_type": "code",
   "execution_count": null,
   "id": "b955e68a",
   "metadata": {},
   "outputs": [],
   "source": []
  },
  {
   "cell_type": "markdown",
   "id": "e8f06c3c",
   "metadata": {},
   "source": [
    "Ada berapa baris data yang ada pada data? (gunakan sintaks python untuk menjawab)"
   ]
  },
  {
   "cell_type": "code",
   "execution_count": null,
   "id": "581ccb83",
   "metadata": {},
   "outputs": [],
   "source": []
  },
  {
   "cell_type": "markdown",
   "id": "2ea5633d",
   "metadata": {},
   "source": [
    "Jelaskan atribut yang dimiliki oleh data yang dipilih! Penjelasan disampaikan dalam bentuk tabel dengan isi tabel sebagai berikut: \n",
    "    \n",
    "1. Nama Atribut\n",
    "2. Deskripsi Atribut\n",
    "3. Tipe Data Atribut (lihat gambar berikut untuk menentukan tipe data)\n",
    "\n",
    "<img src = \"https://www.qualitydigest.com/IQedit/Images/Articles_and_Columns/2020/06_June-2020/Data/working3_clip_image002_0000.png\" alt = \"Jenis-Jenis Data\">\n"
   ]
  },
  {
   "cell_type": "markdown",
   "id": "c593d866",
   "metadata": {},
   "source": []
  },
  {
   "cell_type": "markdown",
   "id": "242d5f4b",
   "metadata": {},
   "source": [
    "Apakah ada baris data yang berisi null (NaN)? Buktikan menggunakan sintaks python!"
   ]
  },
  {
   "cell_type": "code",
   "execution_count": null,
   "id": "dfc4f4f3",
   "metadata": {},
   "outputs": [],
   "source": []
  },
  {
   "cell_type": "markdown",
   "id": "b2da3ae2",
   "metadata": {},
   "source": [
    "Munculkan 5 data pertama pada data yang dipilih!"
   ]
  },
  {
   "cell_type": "code",
   "execution_count": null,
   "id": "babc92a7",
   "metadata": {},
   "outputs": [],
   "source": []
  },
  {
   "cell_type": "markdown",
   "id": "f590b4d7",
   "metadata": {},
   "source": [
    "Munculkan 5 data terakhir pada data yang dipilih!"
   ]
  },
  {
   "cell_type": "code",
   "execution_count": null,
   "id": "5a701454",
   "metadata": {},
   "outputs": [],
   "source": []
  },
  {
   "cell_type": "markdown",
   "id": "90f9b093",
   "metadata": {},
   "source": [
    "Munculkan statistik deskriptif untuk data yang dipilih dengan sintaks python!"
   ]
  },
  {
   "cell_type": "code",
   "execution_count": null,
   "id": "417bc2e1",
   "metadata": {},
   "outputs": [],
   "source": []
  },
  {
   "cell_type": "markdown",
   "id": "840b28ec",
   "metadata": {},
   "source": [
    "Jelaskan apa makna dari hasil telaah statistik deskriptif tersebut!"
   ]
  },
  {
   "cell_type": "markdown",
   "id": "d1168c33",
   "metadata": {},
   "source": []
  },
  {
   "cell_type": "markdown",
   "id": "93ab2978",
   "metadata": {},
   "source": [
    "Lakukan telaah korelasi antar atribut yang ada pada data yang dipilih menggunakan sintaks python! Penjelasan bisa diperkaya dengan visualisasi korelasi."
   ]
  },
  {
   "cell_type": "code",
   "execution_count": null,
   "id": "d0b559c2",
   "metadata": {},
   "outputs": [],
   "source": []
  },
  {
   "cell_type": "markdown",
   "id": "fcb37f1a",
   "metadata": {},
   "source": [
    "Jelaskan apa makna dari hasil telaah korelasi tersebut!"
   ]
  },
  {
   "cell_type": "code",
   "execution_count": null,
   "id": "6ca01617",
   "metadata": {},
   "outputs": [],
   "source": []
  }
 ],
 "metadata": {
  "kernelspec": {
   "display_name": "Python 3 (ipykernel)",
   "language": "python",
   "name": "python3"
  },
  "language_info": {
   "codemirror_mode": {
    "name": "ipython",
    "version": 3
   },
   "file_extension": ".py",
   "mimetype": "text/x-python",
   "name": "python",
   "nbconvert_exporter": "python",
   "pygments_lexer": "ipython3",
   "version": "3.8.17"
  },
  "toc": {
   "base_numbering": 1,
   "nav_menu": {},
   "number_sections": true,
   "sideBar": true,
   "skip_h1_title": false,
   "title_cell": "Table of Contents",
   "title_sidebar": "Contents",
   "toc_cell": false,
   "toc_position": {},
   "toc_section_display": true,
   "toc_window_display": true
  }
 },
 "nbformat": 4,
 "nbformat_minor": 5
}
