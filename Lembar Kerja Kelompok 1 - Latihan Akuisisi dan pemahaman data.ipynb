{
 "cells": [
  {
   "cell_type": "markdown",
   "id": "10c3bbbf",
   "metadata": {},
   "source": [
    "<b><font size = 45>LEMBAR KERJA KELOMPOK 1 - DATA AKUISISI DAN PEMAHAMAN DATA </font></b>\n",
    "\n",
    "Kelompok: \n",
    "\n",
    "Nama anggota:\n",
    "\n",
    "1. Fajar Buana Hidayat <br>\n",
    "2. Adnan Al-farizi Rahmat <br>\n",
    "3. Ichsan Kamil <br>\n",
    "4. \n",
    "5. "
   ]
  },
  {
   "cell_type": "markdown",
   "id": "1a5eb3ea",
   "metadata": {},
   "source": [
    "# Data Akuisisi dan Pemahaman Bisnis"
   ]
  },
  {
   "cell_type": "markdown",
   "id": "8b30f828",
   "metadata": {},
   "source": [
    "Silakan memilih satu sumber data yang menarik untuk dipelajari. Pastikan data yang dipilih memang memiliki kecukupan informasi yang bisa dimanfaatkan (jangan hanya 1 informasi yang bisa diolah dari data tersebut). Sumber data wajib dari https://kaggle.com. Sertakan url tempat untuk mengunduh data yang dipilih pada textbox berikut:"
   ]
  },
  {
   "cell_type": "markdown",
   "id": "78f17621",
   "metadata": {},
   "source": [
    "https://www.kaggle.com/datasets/shantanudhakadd/email-spam-detection-dataset-classification"
   ]
  },
  {
   "cell_type": "markdown",
   "id": "963d7d01",
   "metadata": {},
   "source": [
    "Jelaskan kenapa tim memilih data tersebut untuk dipelajari?"
   ]
  },
  {
   "cell_type": "markdown",
   "id": "995e6181",
   "metadata": {},
   "source": [
    "Kita mungkin memilih data Email Spam karena ada beberapa alasan yang membuat data tersebut menarik dan relevan untuk dipelajari:\n",
    "\n",
    "1. Kita memilih data Email Spam untuk dipelajari karena masalah klasifikasi email spam adalah salah satu tugas penting dalam bidang pengolahan bahasa alami (Natural Language Processing) dan machine learning. Data ini memiliki karakteristik menarik dan relevan untuk dipelajari\n",
    "\n",
    "2. Terkadang kita sebal ketika sering mendapatkan Email Spam"
   ]
  },
  {
   "cell_type": "markdown",
   "id": "92d13b6b",
   "metadata": {},
   "source": [
    "Kalau data ini akan digunakan untuk menghasilkan keuntungan atau untuk kepentingan yang baik, keuntungan atau kepentingan seperti apa yang bisa didapat atau disolusikan dengan data yang dipilih?"
   ]
  },
  {
   "cell_type": "markdown",
   "id": "a681dc25",
   "metadata": {},
   "source": [
    "1. Meningkatkan Efisiensi Komunikasi: Dengan membangun sistem klasifikasi email spam yang efektif, pengguna dapat menghemat waktu dan sumber daya dengan menghindari pembacaan dan penanganan manual terhadap email spam. Efisiensi komunikasi meningkat ketika kotak masuk pengguna lebih bersih dari email spam.\n",
    "\n",
    "2. Meningkatkan Keamanan Informasi: Email spam sering kali berisi upaya phishing dan penipuan yang dapat membahayakan keamanan informasi pengguna. Dengan mengidentifikasi dan memfilter email spam, risiko pengguna jatuh ke dalam penipuan atau membuka lampiran berbahaya dapat dikurangi.\n",
    "\n",
    "3. Meningkatkan Produktivitas: Pengguna akan lebih fokus pada email yang relevan dan penting bagi mereka, yang dapat meningkatkan produktivitas dalam bekerja dan berkomunikasi melalui email.\n",
    "\n",
    "4. Peningkatan Pengalaman Pengguna: Dengan menyaring email spam, pengguna akan mengalami pengalaman pengguna yang lebih positif dan kurang terganggu oleh konten yang tidak relevan atau tidak diinginkan.\n",
    "\n",
    "5. Penghematan Sumber Daya: Dengan mengurangi waktu yang dihabiskan oleh pengguna untuk menghapus atau menangani email spam, organisasi dan perusahaan dapat menghemat sumber daya dalam hal tenaga kerja dan biaya operasional."
   ]
  },
  {
   "cell_type": "markdown",
   "id": "4ade67df",
   "metadata": {},
   "source": [
    "# Pemahaman Data"
   ]
  },
  {
   "cell_type": "markdown",
   "id": "f856d687",
   "metadata": {},
   "source": [
    "Jelaskan secara umum perihal data yang dipilih!"
   ]
  },
  {
   "cell_type": "markdown",
   "id": "0662f58b",
   "metadata": {},
   "source": [
    "\n",
    "Secara umum, data yang dipilih untuk dipelajari adalah dataset Email Spam yang diambil dari kaggle. Dataset ini terdiri dari dua kolom:\n",
    "\n",
    "Label: Kolom ini berisi label atau kategori yang mengidentifikasi apakah suatu email termasuk dalam kelas spam atau non-spam (ham). Biasanya, label ini direpresentasikan sebagai angka biner, di mana nilai 1 menunjukkan email spam, dan nilai 0 menunjukkan email non-spam.\n",
    "\n",
    "Isi Email: Kolom ini berisi teks atau konten dari email itu sendiri. Teks ini merupakan fitur yang digunakan untuk melakukan klasifikasi, yaitu menentukan apakah email tersebut termasuk ke dalam kelas spam atau non-spam berdasarkan informasi yang terdapat di dalamnya."
   ]
  },
  {
   "cell_type": "markdown",
   "id": "32c875d2",
   "metadata": {},
   "source": [
    "Sebutkan periode data tersebut!"
   ]
  },
  {
   "cell_type": "markdown",
   "id": "e844c257",
   "metadata": {},
   "source": [
    "Data Email spam ini dikumpulkan per tahun 2022 "
   ]
  },
  {
   "cell_type": "markdown",
   "id": "867f57eb",
   "metadata": {},
   "source": [
    "Ada berapa atribut pada data? (gunakan sintaks python untuk menjawab)"
   ]
  },
  {
   "cell_type": "code",
   "execution_count": 15,
   "id": "b955e68a",
   "metadata": {},
   "outputs": [
    {
     "name": "stdout",
     "output_type": "stream",
     "text": [
      "['v1' 'v2' 'Unnamed: 2' 'Unnamed: 3' 'Unnamed: 4']\n"
     ]
    }
   ],
   "source": [
    "import pandas as pd\n",
    "import numpy as np\n",
    "\n",
    "# cek atribut jumlah pada data\n",
    "data = pd.read_csv('spam.csv', encoding='latin-1')\n",
    "\n",
    "print(data.columns.values)\n",
    "\n"
   ]
  },
  {
   "cell_type": "markdown",
   "id": "e8f06c3c",
   "metadata": {},
   "source": [
    "Ada berapa baris data yang ada pada data? (gunakan sintaks python untuk menjawab)"
   ]
  },
  {
   "cell_type": "code",
   "execution_count": 13,
   "id": "581ccb83",
   "metadata": {},
   "outputs": [
    {
     "name": "stdout",
     "output_type": "stream",
     "text": [
      "5572 Baris\n"
     ]
    }
   ],
   "source": [
    "# cek jumlah baris pada data\n",
    "print(len(data), \"Baris\")"
   ]
  },
  {
   "cell_type": "markdown",
   "id": "2ea5633d",
   "metadata": {},
   "source": [
    "Jelaskan atribut yang dimiliki oleh data yang dipilih! Penjelasan disampaikan dalam bentuk tabel dengan isi tabel sebagai berikut: \n",
    "    \n",
    "1. Nama Atribut\n",
    "2. Deskripsi Atribut\n",
    "3. Tipe Data Atribut (lihat gambar berikut untuk menentukan tipe data)\n",
    "\n",
    "<img src = \"https://www.qualitydigest.com/IQedit/Images/Articles_and_Columns/2020/06_June-2020/Data/working3_clip_image002_0000.png\" alt = \"Jenis-Jenis Data\">\n"
   ]
  },
  {
   "cell_type": "markdown",
   "id": "c593d866",
   "metadata": {},
   "source": []
  },
  {
   "cell_type": "markdown",
   "id": "242d5f4b",
   "metadata": {},
   "source": [
    "Apakah ada baris data yang berisi null (NaN)? Buktikan menggunakan sintaks python!"
   ]
  },
  {
   "cell_type": "code",
   "execution_count": null,
   "id": "dfc4f4f3",
   "metadata": {},
   "outputs": [],
   "source": []
  },
  {
   "cell_type": "markdown",
   "id": "b2da3ae2",
   "metadata": {},
   "source": [
    "Munculkan 5 data pertama pada data yang dipilih!"
   ]
  },
  {
   "cell_type": "code",
   "execution_count": null,
   "id": "babc92a7",
   "metadata": {},
   "outputs": [],
   "source": []
  },
  {
   "cell_type": "markdown",
   "id": "f590b4d7",
   "metadata": {},
   "source": [
    "Munculkan 5 data terakhir pada data yang dipilih!"
   ]
  },
  {
   "cell_type": "code",
   "execution_count": null,
   "id": "5a701454",
   "metadata": {},
   "outputs": [],
   "source": []
  },
  {
   "cell_type": "markdown",
   "id": "90f9b093",
   "metadata": {},
   "source": [
    "Munculkan statistik deskriptif untuk data yang dipilih dengan sintaks python!"
   ]
  },
  {
   "cell_type": "code",
   "execution_count": null,
   "id": "417bc2e1",
   "metadata": {},
   "outputs": [],
   "source": []
  },
  {
   "cell_type": "markdown",
   "id": "840b28ec",
   "metadata": {},
   "source": [
    "Jelaskan apa makna dari hasil telaah statistik deskriptif tersebut!"
   ]
  },
  {
   "cell_type": "markdown",
   "id": "d1168c33",
   "metadata": {},
   "source": []
  },
  {
   "cell_type": "markdown",
   "id": "93ab2978",
   "metadata": {},
   "source": [
    "Lakukan telaah korelasi antar atribut yang ada pada data yang dipilih menggunakan sintaks python! Penjelasan bisa diperkaya dengan visualisasi korelasi."
   ]
  },
  {
   "cell_type": "code",
   "execution_count": null,
   "id": "d0b559c2",
   "metadata": {},
   "outputs": [],
   "source": []
  },
  {
   "cell_type": "markdown",
   "id": "fcb37f1a",
   "metadata": {},
   "source": [
    "Jelaskan apa makna dari hasil telaah korelasi tersebut!"
   ]
  },
  {
   "cell_type": "code",
   "execution_count": null,
   "id": "6ca01617",
   "metadata": {},
   "outputs": [],
   "source": []
  }
 ],
 "metadata": {
  "kernelspec": {
   "display_name": "Python 3 (ipykernel)",
   "language": "python",
   "name": "python3"
  },
  "language_info": {
   "codemirror_mode": {
    "name": "ipython",
    "version": 3
   },
   "file_extension": ".py",
   "mimetype": "text/x-python",
   "name": "python",
   "nbconvert_exporter": "python",
   "pygments_lexer": "ipython3",
   "version": "3.10.9"
  },
  "toc": {
   "base_numbering": 1,
   "nav_menu": {},
   "number_sections": true,
   "sideBar": true,
   "skip_h1_title": false,
   "title_cell": "Table of Contents",
   "title_sidebar": "Contents",
   "toc_cell": false,
   "toc_position": {},
   "toc_section_display": true,
   "toc_window_display": true
  }
 },
 "nbformat": 4,
 "nbformat_minor": 5
}
