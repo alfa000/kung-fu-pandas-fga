{
 "cells": [
  {
   "cell_type": "markdown",
   "id": "92eda185-3b93-47e4-8633-7d6c94ce02f7",
   "metadata": {},
   "source": [
    "<b><font size = 45>LEMBAR KERJA KELOMPOK 3 - ANALISIS DATA</font></b>\n",
    "\n",
    "Kelompok: Kung Fu Pandas\n",
    "\n",
    "Nama anggota:\n",
    "\n",
    "1. Fajar Buana Hidayat\n",
    "2. Adnan Al-farizi Rahmat\n",
    "3. Muhammad Ichsan Kamil\n",
    "4. Muhammad Ihsas Alvi Ibrahim\n",
    "5. Syarafina Dewi"
   ]
  },
  {
   "cell_type": "markdown",
   "id": "5b1ecab1-ce02-4d7f-822c-bc058ac2fa9f",
   "metadata": {},
   "source": [
    "# Tujuan Analisis Data"
   ]
  },
  {
   "cell_type": "markdown",
   "id": "17965805-6e9f-4b99-90d2-33de8e811006",
   "metadata": {},
   "source": [
    "``Tuliskan tujuan analisis data yang dilakukan. Sebagai contoh: Tujuan dari analisis data x ini adalah untuk memprediksi variabel a berdasarkan umur, daerah tinggal, dan .....``"
   ]
  },
  {
   "cell_type": "code",
   "execution_count": null,
   "id": "8df9b95a-9898-4bf7-a7f8-c9676ab060ab",
   "metadata": {},
   "outputs": [],
   "source": []
  },
  {
   "cell_type": "markdown",
   "id": "fbfb4c01",
   "metadata": {},
   "source": [
    "Tujuan dari analisis data deteksi spam email ini adalah untuk mengembangkan model klasifikasi yang dapat mengidentifikasi apakah suatu email adalah spam atau bukan berdasarkan fitur-fitur seperti panjang pesan, jumlah kata kunci spam, frekuensi kata-kata tertentu."
   ]
  },
  {
   "cell_type": "markdown",
   "id": "3b3b67d8-1076-4068-ad46-9a5efbbfb94c",
   "metadata": {},
   "source": [
    "## Perihal Data"
   ]
  },
  {
   "cell_type": "markdown",
   "id": "06bbe97b-bbb3-4dde-8261-961adea0aca5",
   "metadata": {},
   "source": [
    "``Tampilkan overview data yang digunakan dan penjelasan datanya``"
   ]
  },
  {
   "cell_type": "code",
   "execution_count": 6,
   "id": "cab773dd-90f1-4f40-8906-ceb165ec8875",
   "metadata": {},
   "outputs": [
    {
     "data": {
      "text/html": [
       "<div>\n",
       "<style scoped>\n",
       "    .dataframe tbody tr th:only-of-type {\n",
       "        vertical-align: middle;\n",
       "    }\n",
       "\n",
       "    .dataframe tbody tr th {\n",
       "        vertical-align: top;\n",
       "    }\n",
       "\n",
       "    .dataframe thead th {\n",
       "        text-align: right;\n",
       "    }\n",
       "</style>\n",
       "<table border=\"1\" class=\"dataframe\">\n",
       "  <thead>\n",
       "    <tr style=\"text-align: right;\">\n",
       "      <th></th>\n",
       "      <th>v1</th>\n",
       "      <th>v2</th>\n",
       "      <th>Unnamed: 2</th>\n",
       "      <th>Unnamed: 3</th>\n",
       "      <th>Unnamed: 4</th>\n",
       "    </tr>\n",
       "  </thead>\n",
       "  <tbody>\n",
       "    <tr>\n",
       "      <th>0</th>\n",
       "      <td>ham</td>\n",
       "      <td>Go until jurong point, crazy.. Available only ...</td>\n",
       "      <td>NaN</td>\n",
       "      <td>NaN</td>\n",
       "      <td>NaN</td>\n",
       "    </tr>\n",
       "    <tr>\n",
       "      <th>1</th>\n",
       "      <td>ham</td>\n",
       "      <td>Ok lar... Joking wif u oni...</td>\n",
       "      <td>NaN</td>\n",
       "      <td>NaN</td>\n",
       "      <td>NaN</td>\n",
       "    </tr>\n",
       "    <tr>\n",
       "      <th>2</th>\n",
       "      <td>spam</td>\n",
       "      <td>Free entry in 2 a wkly comp to win FA Cup fina...</td>\n",
       "      <td>NaN</td>\n",
       "      <td>NaN</td>\n",
       "      <td>NaN</td>\n",
       "    </tr>\n",
       "    <tr>\n",
       "      <th>3</th>\n",
       "      <td>ham</td>\n",
       "      <td>U dun say so early hor... U c already then say...</td>\n",
       "      <td>NaN</td>\n",
       "      <td>NaN</td>\n",
       "      <td>NaN</td>\n",
       "    </tr>\n",
       "    <tr>\n",
       "      <th>4</th>\n",
       "      <td>ham</td>\n",
       "      <td>Nah I don't think he goes to usf, he lives aro...</td>\n",
       "      <td>NaN</td>\n",
       "      <td>NaN</td>\n",
       "      <td>NaN</td>\n",
       "    </tr>\n",
       "    <tr>\n",
       "      <th>...</th>\n",
       "      <td>...</td>\n",
       "      <td>...</td>\n",
       "      <td>...</td>\n",
       "      <td>...</td>\n",
       "      <td>...</td>\n",
       "    </tr>\n",
       "    <tr>\n",
       "      <th>5567</th>\n",
       "      <td>spam</td>\n",
       "      <td>This is the 2nd time we have tried 2 contact u...</td>\n",
       "      <td>NaN</td>\n",
       "      <td>NaN</td>\n",
       "      <td>NaN</td>\n",
       "    </tr>\n",
       "    <tr>\n",
       "      <th>5568</th>\n",
       "      <td>ham</td>\n",
       "      <td>Will Ì_ b going to esplanade fr home?</td>\n",
       "      <td>NaN</td>\n",
       "      <td>NaN</td>\n",
       "      <td>NaN</td>\n",
       "    </tr>\n",
       "    <tr>\n",
       "      <th>5569</th>\n",
       "      <td>ham</td>\n",
       "      <td>Pity, * was in mood for that. So...any other s...</td>\n",
       "      <td>NaN</td>\n",
       "      <td>NaN</td>\n",
       "      <td>NaN</td>\n",
       "    </tr>\n",
       "    <tr>\n",
       "      <th>5570</th>\n",
       "      <td>ham</td>\n",
       "      <td>The guy did some bitching but I acted like i'd...</td>\n",
       "      <td>NaN</td>\n",
       "      <td>NaN</td>\n",
       "      <td>NaN</td>\n",
       "    </tr>\n",
       "    <tr>\n",
       "      <th>5571</th>\n",
       "      <td>ham</td>\n",
       "      <td>Rofl. Its true to its name</td>\n",
       "      <td>NaN</td>\n",
       "      <td>NaN</td>\n",
       "      <td>NaN</td>\n",
       "    </tr>\n",
       "  </tbody>\n",
       "</table>\n",
       "<p>5572 rows × 5 columns</p>\n",
       "</div>"
      ],
      "text/plain": [
       "        v1                                                 v2 Unnamed: 2  \\\n",
       "0      ham  Go until jurong point, crazy.. Available only ...        NaN   \n",
       "1      ham                      Ok lar... Joking wif u oni...        NaN   \n",
       "2     spam  Free entry in 2 a wkly comp to win FA Cup fina...        NaN   \n",
       "3      ham  U dun say so early hor... U c already then say...        NaN   \n",
       "4      ham  Nah I don't think he goes to usf, he lives aro...        NaN   \n",
       "...    ...                                                ...        ...   \n",
       "5567  spam  This is the 2nd time we have tried 2 contact u...        NaN   \n",
       "5568   ham              Will Ì_ b going to esplanade fr home?        NaN   \n",
       "5569   ham  Pity, * was in mood for that. So...any other s...        NaN   \n",
       "5570   ham  The guy did some bitching but I acted like i'd...        NaN   \n",
       "5571   ham                         Rofl. Its true to its name        NaN   \n",
       "\n",
       "     Unnamed: 3 Unnamed: 4  \n",
       "0           NaN        NaN  \n",
       "1           NaN        NaN  \n",
       "2           NaN        NaN  \n",
       "3           NaN        NaN  \n",
       "4           NaN        NaN  \n",
       "...         ...        ...  \n",
       "5567        NaN        NaN  \n",
       "5568        NaN        NaN  \n",
       "5569        NaN        NaN  \n",
       "5570        NaN        NaN  \n",
       "5571        NaN        NaN  \n",
       "\n",
       "[5572 rows x 5 columns]"
      ]
     },
     "execution_count": 6,
     "metadata": {},
     "output_type": "execute_result"
    }
   ],
   "source": [
    "import pandas as pd\n",
    "\n",
    "df= pd.read_csv(\"spam.csv\", encoding = \"ISO-8859-1\")\n",
    "df"
   ]
  },
  {
   "cell_type": "markdown",
   "id": "db1680f5",
   "metadata": {},
   "source": [
    "Dataset ini berisi beberapa email secara acak yang dikumpulkan dan diklasifikasikan sebagai spam atau ham. \n",
    "Kolom pertama berisi spam / ham klasifikasi kolom resr memiliki email itu sendiri\n",
    "\n",
    "Label: Kolom ini berisi label atau kategori yang mengidentifikasi apakah suatu email termasuk dalam kelas spam atau non-spam (ham)\n",
    "\n",
    "Isi Email: Kolom ini berisi teks atau konten dari email itu sendiri. Teks ini merupakan fitur yang digunakan untuk melakukan klasifikasi, yaitu menentukan apakah email tersebut termasuk ke dalam kelas spam atau non-spam berdasarkan informasi yang terdapat di dalamnya."
   ]
  },
  {
   "cell_type": "markdown",
   "id": "93c1a621-18b0-473d-bb9b-6f06c4144999",
   "metadata": {},
   "source": [
    "# Telaah Statistik"
   ]
  },
  {
   "cell_type": "markdown",
   "id": "86bbf815-9e54-4d67-9b8e-957fa09517bd",
   "metadata": {},
   "source": [
    "``Tampilkan statistik deskriptif untuk mendukung pemahaman terhadap data dan distribusinya``"
   ]
  },
  {
   "cell_type": "code",
   "execution_count": 7,
   "id": "d7460b7a-5807-4666-90c5-993959255a73",
   "metadata": {},
   "outputs": [
    {
     "name": "stdout",
     "output_type": "stream",
     "text": [
      "Descriptive Statistics:\n",
      "           v1                      v2  \\\n",
      "count   5572                    5572   \n",
      "unique     2                    5169   \n",
      "top      ham  Sorry, I'll call later   \n",
      "freq    4825                      30   \n",
      "\n",
      "                                               Unnamed: 2  \\\n",
      "count                                                  50   \n",
      "unique                                                 43   \n",
      "top      bt not his girlfrnd... G o o d n i g h t . . .@\"   \n",
      "freq                                                    3   \n",
      "\n",
      "                   Unnamed: 3 Unnamed: 4  \n",
      "count                      12          6  \n",
      "unique                     10          5  \n",
      "top      MK17 92H. 450Ppw 16\"    GNT:-)\"  \n",
      "freq                        2          2  \n"
     ]
    }
   ],
   "source": [
    "import numpy as np\n",
    "\n",
    "print('Descriptive Statistics:\\n', df.describe())"
   ]
  },
  {
   "cell_type": "markdown",
   "id": "af0decb9-e00b-4a0e-b872-134847053f21",
   "metadata": {},
   "source": [
    "# Data Preprocessing"
   ]
  },
  {
   "cell_type": "markdown",
   "id": "e85c1c5e-8af1-41a5-9964-abc8ad1f9742",
   "metadata": {},
   "source": [
    "``Lakukan data preprocessing seperlunya sesuai dengan kebutuhan pemodelan dan kondisi data. Preprocessing bisa berupa handling missing data, feature engineering, transformasi data, dan seleksi fitur.``"
   ]
  },
  {
   "cell_type": "code",
   "execution_count": null,
   "id": "ccdb42b2-e1e9-4a83-a1aa-c4f4323f3e11",
   "metadata": {},
   "outputs": [],
   "source": []
  },
  {
   "cell_type": "markdown",
   "id": "939a6fad-65ae-4675-9970-bd251e7d509a",
   "metadata": {},
   "source": [
    "# Pemodelan dan Evaluasi"
   ]
  },
  {
   "cell_type": "markdown",
   "id": "a3f6aaf6-4800-4e76-a8c9-7b204ed12db6",
   "metadata": {},
   "source": [
    "## Pemodelan"
   ]
  },
  {
   "cell_type": "markdown",
   "id": "61bb393a-40f6-4a8a-b356-7b38a9b22e48",
   "metadata": {},
   "source": [
    "``Lakukan task analisis data menggunakan teknik yang sesuai dengan tujuan awal. Analisis data bisa berupa prediksi, clustering, ataupun association rule``"
   ]
  },
  {
   "cell_type": "markdown",
   "id": "de84817b-a257-4e72-bbd2-1354c071e9b8",
   "metadata": {},
   "source": [
    "## Evaluasi"
   ]
  },
  {
   "cell_type": "markdown",
   "id": "fde54563-e844-4477-b1b2-40ceba60acc6",
   "metadata": {},
   "source": [
    "``Lakukan evaluasi model yang dihasilkan menggunakan pengukuran yang sesuai dengan metode atau algoritma pemodelan dan mendukung tujuan awal``"
   ]
  },
  {
   "cell_type": "code",
   "execution_count": null,
   "id": "f1311b8b-5404-47d6-a359-fa332d9cfc5c",
   "metadata": {},
   "outputs": [],
   "source": []
  }
 ],
 "metadata": {
  "kernelspec": {
   "display_name": "Python 3 (ipykernel)",
   "language": "python",
   "name": "python3"
  },
  "language_info": {
   "codemirror_mode": {
    "name": "ipython",
    "version": 3
   },
   "file_extension": ".py",
   "mimetype": "text/x-python",
   "name": "python",
   "nbconvert_exporter": "python",
   "pygments_lexer": "ipython3",
   "version": "3.9.13"
  }
 },
 "nbformat": 4,
 "nbformat_minor": 5
}
