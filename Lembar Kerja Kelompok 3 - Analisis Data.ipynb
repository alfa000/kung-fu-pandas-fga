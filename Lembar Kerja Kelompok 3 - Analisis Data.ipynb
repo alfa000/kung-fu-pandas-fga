{
 "cells": [
  {
   "cell_type": "markdown",
   "id": "92eda185-3b93-47e4-8633-7d6c94ce02f7",
   "metadata": {},
   "source": [
    "<b><font size = 45>LEMBAR KERJA KELOMPOK 3 - ANALISIS DATA</font></b>\n",
    "\n",
    "Kelompok: \n",
    "\n",
    "Nama anggota:\n",
    "\n",
    "1. \n",
    "2. \n",
    "3. \n",
    "4. \n",
    "5. "
   ]
  },
  {
   "cell_type": "markdown",
   "id": "5b1ecab1-ce02-4d7f-822c-bc058ac2fa9f",
   "metadata": {},
   "source": [
    "# Tujuan Analisis Data"
   ]
  },
  {
   "cell_type": "markdown",
   "id": "17965805-6e9f-4b99-90d2-33de8e811006",
   "metadata": {},
   "source": [
    "``Tuliskan tujuan analisis data yang dilakukan. Sebagai contoh: Tujuan dari analisis data x ini adalah untuk memprediksi variabel a berdasarkan umur, daerah tinggal, dan .....``"
   ]
  },
  {
   "cell_type": "code",
   "execution_count": null,
   "id": "8df9b95a-9898-4bf7-a7f8-c9676ab060ab",
   "metadata": {},
   "outputs": [],
   "source": []
  },
  {
   "cell_type": "markdown",
   "id": "3b3b67d8-1076-4068-ad46-9a5efbbfb94c",
   "metadata": {},
   "source": [
    "## Perihal Data"
   ]
  },
  {
   "cell_type": "markdown",
   "id": "06bbe97b-bbb3-4dde-8261-961adea0aca5",
   "metadata": {},
   "source": [
    "``Tampilkan overview data yang digunakan dan penjelasan datanya``"
   ]
  },
  {
   "cell_type": "code",
   "execution_count": null,
   "id": "cab773dd-90f1-4f40-8906-ceb165ec8875",
   "metadata": {},
   "outputs": [],
   "source": []
  },
  {
   "cell_type": "markdown",
   "id": "93c1a621-18b0-473d-bb9b-6f06c4144999",
   "metadata": {},
   "source": [
    "# Telaah Statistik"
   ]
  },
  {
   "cell_type": "markdown",
   "id": "86bbf815-9e54-4d67-9b8e-957fa09517bd",
   "metadata": {},
   "source": [
    "``Tampilkan statistik deskriptif untuk mendukung pemahaman terhadap data dan distribusinya``"
   ]
  },
  {
   "cell_type": "code",
   "execution_count": null,
   "id": "d7460b7a-5807-4666-90c5-993959255a73",
   "metadata": {},
   "outputs": [],
   "source": []
  },
  {
   "cell_type": "markdown",
   "id": "af0decb9-e00b-4a0e-b872-134847053f21",
   "metadata": {},
   "source": [
    "# Data Preprocessing"
   ]
  },
  {
   "cell_type": "markdown",
   "id": "e85c1c5e-8af1-41a5-9964-abc8ad1f9742",
   "metadata": {},
   "source": [
    "``Lakukan data preprocessing seperlunya sesuai dengan kebutuhan pemodelan dan kondisi data. Preprocessing bisa berupa handling missing data, feature engineering, transformasi data, dan seleksi fitur.``"
   ]
  },
  {
   "cell_type": "code",
   "execution_count": null,
   "id": "ccdb42b2-e1e9-4a83-a1aa-c4f4323f3e11",
   "metadata": {},
   "outputs": [],
   "source": []
  },
  {
   "cell_type": "markdown",
   "id": "939a6fad-65ae-4675-9970-bd251e7d509a",
   "metadata": {},
   "source": [
    "# Pemodelan dan Evaluasi"
   ]
  },
  {
   "cell_type": "markdown",
   "id": "a3f6aaf6-4800-4e76-a8c9-7b204ed12db6",
   "metadata": {},
   "source": [
    "## Pemodelan"
   ]
  },
  {
   "cell_type": "markdown",
   "id": "61bb393a-40f6-4a8a-b356-7b38a9b22e48",
   "metadata": {},
   "source": [
    "``Lakukan task analisis data menggunakan teknik yang sesuai dengan tujuan awal. Analisis data bisa berupa prediksi, clustering, ataupun association rule``"
   ]
  },
  {
   "cell_type": "markdown",
   "id": "de84817b-a257-4e72-bbd2-1354c071e9b8",
   "metadata": {},
   "source": [
    "## Evaluasi"
   ]
  },
  {
   "cell_type": "markdown",
   "id": "fde54563-e844-4477-b1b2-40ceba60acc6",
   "metadata": {},
   "source": [
    "``Lakukan evaluasi model yang dihasilkan menggunakan pengukuran yang sesuai dengan metode atau algoritma pemodelan dan mendukung tujuan awal``"
   ]
  },
  {
   "cell_type": "code",
   "execution_count": null,
   "id": "f1311b8b-5404-47d6-a359-fa332d9cfc5c",
   "metadata": {},
   "outputs": [],
   "source": []
  }
 ],
 "metadata": {
  "kernelspec": {
   "display_name": "Python 3 (ipykernel)",
   "language": "python",
   "name": "python3"
  },
  "language_info": {
   "codemirror_mode": {
    "name": "ipython",
    "version": 3
   },
   "file_extension": ".py",
   "mimetype": "text/x-python",
   "name": "python",
   "nbconvert_exporter": "python",
   "pygments_lexer": "ipython3",
   "version": "3.8.17"
  }
 },
 "nbformat": 4,
 "nbformat_minor": 5
}
