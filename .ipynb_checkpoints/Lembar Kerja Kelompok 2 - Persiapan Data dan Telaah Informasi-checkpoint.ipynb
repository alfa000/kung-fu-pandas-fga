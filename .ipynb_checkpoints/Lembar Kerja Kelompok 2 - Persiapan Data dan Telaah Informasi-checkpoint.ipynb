{
 "cells": [
  {
   "cell_type": "markdown",
   "id": "10c3bbbf",
   "metadata": {},
   "source": [
    "<b><font size = 45>LEMBAR KERJA KELOMPOK 2 - PERSIAPAN DATA DAN TELAAH INFORMASI </font></b>\n",
    "\n",
    "Kelompok: \n",
    "\n",
    "Nama anggota:\n",
    "\n",
    "1. Test\n",
    "2. \n",
    "3. \n",
    "4. \n",
    "5. "
   ]
  },
  {
   "cell_type": "markdown",
   "id": "1a5eb3ea",
   "metadata": {},
   "source": [
    "# Persiapan Data"
   ]
  },
  {
   "cell_type": "markdown",
   "id": "8b30f828",
   "metadata": {},
   "source": [
    "Analisis data yang sudah dipilih dan apakah ada atribut yang memerlukan perubahan bentuk data agar menjadi lebih informatif? Adakah atribut yang masih mengandung nilai NaN? Adakah ada atribut yang tidak terpakai? Atau adakah perubahan bentuk data yang diperlukan? Apabila ada, silakan jelaskan bentuk transformasi data apa saja yang perlu dilakukan dan implementasikan proses tersebut menggunakan Python."
   ]
  },
  {
   "cell_type": "markdown",
   "id": "78f17621",
   "metadata": {},
   "source": []
  },
  {
   "cell_type": "code",
   "execution_count": null,
   "id": "40bba1d4",
   "metadata": {},
   "outputs": [],
   "source": []
  },
  {
   "cell_type": "markdown",
   "id": "4ade67df",
   "metadata": {},
   "source": [
    "# Telaah Informasi"
   ]
  },
  {
   "cell_type": "markdown",
   "id": "f856d687",
   "metadata": {},
   "source": [
    "Sebutkan 5 informasi yang bisa dimunculkan dari data yang dipilih! Munculkan informasi tersebut menggunakan Python dan visualisasikan menggunakan bentuk visualisasi yang tepat!"
   ]
  },
  {
   "cell_type": "markdown",
   "id": "0662f58b",
   "metadata": {},
   "source": []
  },
  {
   "cell_type": "code",
   "execution_count": null,
   "id": "b955e68a",
   "metadata": {},
   "outputs": [],
   "source": []
  }
 ],
 "metadata": {
  "kernelspec": {
   "display_name": "Python 3 (ipykernel)",
   "language": "python",
   "name": "python3"
  },
  "language_info": {
   "codemirror_mode": {
    "name": "ipython",
    "version": 3
   },
   "file_extension": ".py",
   "mimetype": "text/x-python",
   "name": "python",
   "nbconvert_exporter": "python",
   "pygments_lexer": "ipython3",
   "version": "3.10.9"
  },
  "toc": {
   "base_numbering": 1,
   "nav_menu": {},
   "number_sections": true,
   "sideBar": true,
   "skip_h1_title": false,
   "title_cell": "Table of Contents",
   "title_sidebar": "Contents",
   "toc_cell": false,
   "toc_position": {},
   "toc_section_display": true,
   "toc_window_display": true
  }
 },
 "nbformat": 4,
 "nbformat_minor": 5
}
